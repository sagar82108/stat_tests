{
 "cells": [
  {
   "cell_type": "code",
   "execution_count": null,
   "id": "51495654-1bb6-4cf6-804d-b092e4290ce9",
   "metadata": {},
   "outputs": [],
   "source": [
    "A t-test and a z-test are both statistical hypothesis tests\n",
    "used to make inferences about population parameters based on sample data.\n",
    "\n",
    "Type of Data:\n",
    "\n",
    "t-test: The t-test is used when you are dealing with a small sample size (typically less than 30) and the population standard deviation is unknown. \n",
    "It relies on the sample standard deviation to estimate the population standard deviation.\n",
    "\n",
    "z-test: The z-test is used when you have a large sample size (typically greater than 30) or when the population standard deviation is known.\n",
    "\n",
    "Formula for Test Statistic:\n",
    "\n",
    "t-test: The test statistic for a t-test is calculated using the sample mean,\n",
    "population mean (or a hypothesized population mean), sample standard deviation, and sample size.\n",
    "The formula for the test statistic involves the \"t-distribution,\" which has thicker tails than the normal (z) distribution.\n",
    "\n",
    "z-test: The test statistic for a z-test is calculated using the sample mean,\n",
    "population mean (or a hypothesized population mean), population standard deviation, and sample size.\n",
    "The formula for the test statistic involves the standard normal (z) distribution.\n"
   ]
  },
  {
   "cell_type": "code",
   "execution_count": null,
   "id": "c4080d27-1f26-4f6d-ba72-b2e42554a88b",
   "metadata": {},
   "outputs": [],
   "source": [
    "\n",
    "\n",
    "**One-Tailed Test:** Used when you're testing for a specific directional effect, either greater than or less than a value.\n",
    "\n",
    "**Two-Tailed Test:** Used when you're testing for a significant difference in either direction from a specific value, without specifying the direction."
   ]
  },
  {
   "cell_type": "code",
   "execution_count": null,
   "id": "21cf5e22-219b-4446-aa3c-a4e6278b605e",
   "metadata": {},
   "outputs": [],
   "source": [
    "Type 1 Error (False Positive): This error occurs when you reject a null hypothesis that is actually true.\n",
    "In other words, you conclude that there is a significant effect or difference when, in reality,\n",
    "there isn't one. Type 1 errors are also known as false positives or alpha errors.\n",
    "\n",
    "Type 2 Error (False Negative): This error occurs when you fail to reject a null hypothesis that is actually false. \n",
    "In this case, you miss a significant effect or difference that exists in the population. \n",
    "Type 2 errors are also known as false negatives or beta errors.\n",
    "\n",
    "Type 1 Error (False Positive): If, after conducting a clinical trial,\n",
    "the company incorrectly concludes that the drug is effective (rejects the null hypothesis) when,\n",
    "in fact, it has no real effect (null hypothesis is true), this would be a Type 1 error. Patients might be given a drug that doesn't actually work, leading to unnecessary costs and potential side effects.\n",
    "\n",
    "Type 2 Error (False Negative): If, after conducting a clinical trial,\n",
    "the company fails to conclude that the drug is effective (fails to reject the null hypothesis) when,\n",
    "in fact, it does have a real effect (alternative hypothesis is true), this would be a Type 2 error. In this case, patients might miss out on a potentially life-saving treatmen\n"
   ]
  },
  {
   "cell_type": "code",
   "execution_count": null,
   "id": "f2494ef0-6660-43e5-a3fc-bca6882d9c52",
   "metadata": {},
   "outputs": [],
   "source": [
    "Bayes' theorem is a fundamental concept in probability theory and statistics used to update the probability for a hypothesis\n",
    "based on new evidence or information. It provides a way to calculate conditional probabilities, taking into account prior \n",
    "knowledge and new observations.\n",
    "\n",
    "\n",
    "\n"
   ]
  },
  {
   "cell_type": "code",
   "execution_count": null,
   "id": "df72aab5-d393-4c5a-a4a2-4afba726d882",
   "metadata": {},
   "outputs": [],
   "source": [
    "A confidence interval is a statistical concept used to estimate a range of values within which a population parameter (such as a mean, proportion, or variance) is likely to fall.\n",
    "It provides a way to quantify the uncertainty or variability in a sample statistic and express it as a range, typically accompanied by a confidence level.\n",
    "\n",
    "To calculate it, you collect data, choose a confidence level (e.g., 95%), \n",
    "calculate the sample mean and standard error, find the appropriate z or t-score, \n",
    "compute the margin of error, and construct the interval by adding and subtracting the margin of error from the sample mean.\n",
    "It provides a way to express the uncertainty in your estimate."
   ]
  },
  {
   "cell_type": "code",
   "execution_count": null,
   "id": "10ce48e0-c98c-4366-9ed0-ec13430dbc56",
   "metadata": {},
   "outputs": [],
   "source": [
    "\n",
    "\n",
    "**Scenario:**\n",
    "You are trying to determine the probability of it raining tomorrow based on historical data and a weather report.\n",
    "\n",
    "1. **Prior Probability (Prior Knowledge):** You know from historical records that, on average, it rains in your city 20% of the time (P(Rain) = 0.20). This is your prior probability.\n",
    "\n",
    "2. **New Evidence (Weather Report):** The local weather report, which is generally accurate, predicts rain tomorrow (P(Reported Rain) = 0.80). This is the probability of the evidence occurring.\n",
    "\n",
    "Now, you want to update your prior probability of rain (P(Rain)) based on this new evidence (P(Reported Rain)).\n",
    "\n",
    "**Using Bayes' Theorem:**\n",
    "\n",
    "Bayes' Theorem helps us combine this prior knowledge with new evidence to get a more accurate estimate.\n",
    "\n",
    "- **Prior Probability (P(Rain)):** 0.20\n",
    "- **Probability of Evidence (P(Reported Rain)):** 0.80\n",
    "\n",
    "Now, we apply Bayes' Theorem:\n",
    "\n",
    "- **Sensitivity of the Test (P(Rain | Reported Rain)):** This is what we want to find out. It's the probability of it actually raining tomorrow given that the weather report predicts rain.\n",
    "\n",
    "So, you can intuitively understand it this way:\n",
    "\n",
    "If it's raining tomorrow (P(Rain)), the weather report is likely to correctly predict it (since it's generally accurate), so P(Reported Rain | Rain) would be high.\n",
    "\n",
    "If it's not raining tomorrow (1 - P(Rain)), the weather report might incorrectly predict rain (a false positive), so P(Reported Rain | Not Rain) would be lower.\n",
    "\n",
    "So, intuitively, P(Rain | Reported Rain) should be higher than the prior probability of rain (P(Rain)) because a positive weather report makes it more likely.\n",
    "\n",
    "In this case, based on the weather report, you would intuitively update your belief and think that there's a higher chance of rain tomorrow than your initial prior probability. This is how Bayes' Theorem helps you incorporate new evidence into your existing knowledge without the need for explicit equations."
   ]
  },
  {
   "cell_type": "code",
   "execution_count": null,
   "id": "89e11c15-3eb6-4966-b747-33d415f6a265",
   "metadata": {},
   "outputs": [],
   "source": [
    "To calculate the 95% confidence interval for a sample of data with a mean of 50 and a standard deviation of 5,\n",
    "you can use the formula for the confidence interval for a population mean when the population standard deviation is known. \n",
    "\n",
    "The formula is: confidence interval= sample mean +-(Z population standard deviation/squrt(samplesize))\n",
    "\n",
    "Where:\n",
    "\n",
    "Sample Mean = 50 (given)\n",
    "Population Standard Deviation = 5 (given)\n",
    "Confidence Level = 95%, which corresponds to a critical z-score of 1.96. You can find this value in a standard normal distribution table.\n",
    "\n",
    "The only missing piece of information is the sample size (n). Without knowing the sample size, we cannot calculate the confidence interval precisely. However, if you have a specific sample size, you can plug it into the formula to find the confidence interval."
   ]
  },
  {
   "cell_type": "code",
   "execution_count": null,
   "id": "cacb8165-d478-4e75-a482-581a296b25ce",
   "metadata": {},
   "outputs": [],
   "source": [
    "The margin of error (MOE) in a confidence interval is a measure of the precision or uncertainty associated\n",
    "with the estimate of a population parameter (such as a mean or proportion) based on a sample. \n",
    "It quantifies the range around the point estimate within which the true population parameter is likely to fall.\n",
    "The margin of error is usually expressed as a range and is influenced by both the sample size and the chosen confidence level.\n",
    "\n",
    "Let's say you want to estimate the average income of a city's residents to within a 95% confidence interval. You collect two different samples: one with 100 people and another with 1,000 people.\n",
    "\n",
    "Sample 1 (n = 100): The margin of error might be, for example, $500. This means that you estimate the average income to be $50,000, plus or minus $500. So, the confidence interval might be $49,500 to $50,500.\n",
    "\n",
    "Sample 2 (n = 1,000): With a larger sample, the margin of error might be smaller, say, $100. This implies that your estimate of the average income is $50,000, plus or minus $100. The confidence interval in this case might be $49,900 to $50,100."
   ]
  },
  {
   "cell_type": "code",
   "execution_count": null,
   "id": "211fad86-2596-44da-b170-1e6b9c57273d",
   "metadata": {},
   "outputs": [],
   "source": [
    "To calculate the z-score for a data point, you can use the following formula:\n",
    "    \n",
    "    Z=x-u/std\n",
    "    \n",
    "    Z=75-70/5\n",
    "    \n",
    "    Z=1\n",
    "\n",
    "    \n",
    "Interpretation:\n",
    "A z-score of 1 means that the data point (75) is 1 standard deviation above the mean (70) in the context of the population. \n",
    "In other words, it's one unit of the population standard deviation above the average. \n",
    "This tells you that the data point is somewhat higher than the typical values in the population,\n",
    "but it doesn't tell you how extreme or unusual it is without further context or information about the distribution of the data.\n",
    "\n",
    "\n",
    "\n",
    "\n",
    "\n",
    "    "
   ]
  },
  {
   "cell_type": "code",
   "execution_count": 1,
   "id": "dbd62d8e-f041-490c-bb2c-78f2d481f923",
   "metadata": {},
   "outputs": [
    {
     "name": "stdout",
     "output_type": "stream",
     "text": [
      "Reject the null hypothesis\n",
      "t-statistic: 16.970562748477143\n",
      "p-value: 0.0\n"
     ]
    }
   ],
   "source": [
    "import numpy as np\n",
    "from scipy import stats\n",
    "\n",
    "# Sample data\n",
    "data = [6.0] * 50  # Assuming the sample mean is 6 pounds, and there are 50 participants\n",
    "\n",
    "# Population parameters under the null hypothesis\n",
    "population_mean_under_null = 0\n",
    "sample_std_dev = 2.5\n",
    "sample_size = len(data)\n",
    "\n",
    "# Calculate the t-statistic\n",
    "t_statistic = (np.mean(data) - population_mean_under_null) / (sample_std_dev / np.sqrt(sample_size))\n",
    "\n",
    "# Degrees of freedom\n",
    "degrees_of_freedom = sample_size - 1\n",
    "\n",
    "# Set the significance level\n",
    "alpha = 0.05\n",
    "\n",
    "# Calculate the critical t-values for a two-tailed test\n",
    "critical_t_value_lower = stats.t.ppf(alpha / 2, degrees_of_freedom)\n",
    "critical_t_value_upper = -critical_t_value_lower  # For a symmetric distribution\n",
    "\n",
    "# Perform the t-test\n",
    "p_value = 2 * (1 - stats.t.cdf(np.abs(t_statistic), degrees_of_freedom))\n",
    "\n",
    "# Determine whether to reject the null hypothesis\n",
    "if np.abs(t_statistic) > critical_t_value_upper:\n",
    "    print(\"Reject the null hypothesis\")\n",
    "else:\n",
    "    print(\"Fail to reject the null hypothesis\")\n",
    "\n",
    "print(\"t-statistic:\", t_statistic)\n",
    "print(\"p-value:\", p_value)\n"
   ]
  },
  {
   "cell_type": "code",
   "execution_count": null,
   "id": "7d1656ba-e002-444e-8e75-87bb96ca5046",
   "metadata": {},
   "outputs": [],
   "source": [
    "To calculate the 95% confidence interval for the true proportion of people who are satisfied with their job,\n",
    "you can use the following formula for the confidence interval for a population proportion\n",
    "\n",
    "confidence interval: p +- Z{sqrt(p(1-p))}\n",
    "\n",
    "putting the values\n",
    "\n",
    "calculate the upper and lower limits of the confidence interval:\n",
    "\n",
    "Lower Limit = 0.65 - (1.96 * 0.02133)\n",
    "Upper Limit = 0.65 + (1.96 * 0.02133)\n",
    "\n",
    "Lower Limit ≈ 0.608\n",
    "Upper Limit ≈ 0.692"
   ]
  },
  {
   "cell_type": "code",
   "execution_count": 2,
   "id": "ee16619a-a220-4626-abf0-c993dd353499",
   "metadata": {},
   "outputs": [
    {
     "name": "stdout",
     "output_type": "stream",
     "text": [
      "Reject the null hypothesis\n",
      "t-statistic: inf\n",
      "p-value: 0.0\n"
     ]
    },
    {
     "name": "stderr",
     "output_type": "stream",
     "text": [
      "/tmp/ipykernel_142/3348448962.py:9: RuntimeWarning: Precision loss occurred in moment calculation due to catastrophic cancellation. This occurs when the data are nearly identical. Results may be unreliable.\n",
      "  t_statistic, p_value = stats.ttest_ind(sample_A, sample_B)\n"
     ]
    }
   ],
   "source": [
    "import numpy as np\n",
    "from scipy import stats\n",
    "\n",
    "# Sample data for each teaching method\n",
    "sample_A = np.array([85] * 30)  # Assuming sample size of 30 for method A\n",
    "sample_B = np.array([82] * 30)  # Assuming sample size of 30 for method B\n",
    "\n",
    "# Perform a two-sample t-test\n",
    "t_statistic, p_value = stats.ttest_ind(sample_A, sample_B)\n",
    "\n",
    "# Set the significance level\n",
    "alpha = 0.01\n",
    "\n",
    "# Determine whether to reject the null hypothesis\n",
    "if p_value < alpha:\n",
    "    print(\"Reject the null hypothesis\")\n",
    "else:\n",
    "    print(\"Fail to reject the null hypothesis\")\n",
    "\n",
    "print(\"t-statistic:\", t_statistic)\n",
    "print(\"p-value:\", p_value)\n"
   ]
  },
  {
   "cell_type": "code",
   "execution_count": null,
   "id": "5ae65c53-64f2-43b7-b0c4-b249c61a5d94",
   "metadata": {},
   "outputs": [],
   "source": []
  }
 ],
 "metadata": {
  "kernelspec": {
   "display_name": "Python 3 (ipykernel)",
   "language": "python",
   "name": "python3"
  },
  "language_info": {
   "codemirror_mode": {
    "name": "ipython",
    "version": 3
   },
   "file_extension": ".py",
   "mimetype": "text/x-python",
   "name": "python",
   "nbconvert_exporter": "python",
   "pygments_lexer": "ipython3",
   "version": "3.10.8"
  }
 },
 "nbformat": 4,
 "nbformat_minor": 5
}
